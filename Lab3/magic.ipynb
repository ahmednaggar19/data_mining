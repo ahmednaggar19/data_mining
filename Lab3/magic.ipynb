{
 "cells": [
  {
   "cell_type": "markdown",
   "metadata": {},
   "source": [
    "# Data Classification\n",
    "\n",
    "This dataset is generated to simulate registration of high energy gamma particles in a ground-based atmospheric Cherenkov gamma telescope using the imaging technique. The dataset consists of two classes; gammas (signal) and hadrons (background). There\n",
    "are 12332 gamma events and 6688 hadron events. You are required to apply preprocessing techniques on this\n",
    "dataset and use the preprocessed dataset to construct different classification models such as Decision Trees,\n",
    "Naïve Bayes Classifier, Random Forests, AdaBoost, K-Nearest Neighbor (K-NN) and Support Vector\n",
    "Machines (SVM). You are also required to tune the parameters of these models, compare the performance of\n",
    "the learned models before and after preprocessing and compare the performance of models with each other."
   ]
  },
  {
   "cell_type": "markdown",
   "metadata": {},
   "source": [
    "## Importing dataset"
   ]
  },
  {
   "cell_type": "code",
   "execution_count": 1,
   "metadata": {},
   "outputs": [],
   "source": [
    "import pandas as pd\n",
    "import numpy as np\n",
    "from time import time\n",
    "\n",
    "data = pd.read_csv(\"dataset/magic04.data\",\n",
    "                  names = [\"fLength\", \"fWidth\", \"fSize\", \"fConc\", \"fConc1\", \"fAsym\",\n",
    "                           \"fM3Long\", \"fM3Trans\", \"fAlpha\", \"fDist\", \"class\"])"
   ]
  },
  {
   "cell_type": "code",
   "execution_count": 2,
   "metadata": {},
   "outputs": [
    {
     "data": {
      "text/html": [
       "<div>\n",
       "<style scoped>\n",
       "    .dataframe tbody tr th:only-of-type {\n",
       "        vertical-align: middle;\n",
       "    }\n",
       "\n",
       "    .dataframe tbody tr th {\n",
       "        vertical-align: top;\n",
       "    }\n",
       "\n",
       "    .dataframe thead th {\n",
       "        text-align: right;\n",
       "    }\n",
       "</style>\n",
       "<table border=\"1\" class=\"dataframe\">\n",
       "  <thead>\n",
       "    <tr style=\"text-align: right;\">\n",
       "      <th></th>\n",
       "      <th>fLength</th>\n",
       "      <th>fWidth</th>\n",
       "      <th>fSize</th>\n",
       "      <th>fConc</th>\n",
       "      <th>fConc1</th>\n",
       "      <th>fAsym</th>\n",
       "      <th>fM3Long</th>\n",
       "      <th>fM3Trans</th>\n",
       "      <th>fAlpha</th>\n",
       "      <th>fDist</th>\n",
       "      <th>class</th>\n",
       "    </tr>\n",
       "  </thead>\n",
       "  <tbody>\n",
       "    <tr>\n",
       "      <th>0</th>\n",
       "      <td>28.7967</td>\n",
       "      <td>16.0021</td>\n",
       "      <td>2.6449</td>\n",
       "      <td>0.3918</td>\n",
       "      <td>0.1982</td>\n",
       "      <td>27.7004</td>\n",
       "      <td>22.0110</td>\n",
       "      <td>-8.2027</td>\n",
       "      <td>40.0920</td>\n",
       "      <td>81.8828</td>\n",
       "      <td>g</td>\n",
       "    </tr>\n",
       "    <tr>\n",
       "      <th>1</th>\n",
       "      <td>31.6036</td>\n",
       "      <td>11.7235</td>\n",
       "      <td>2.5185</td>\n",
       "      <td>0.5303</td>\n",
       "      <td>0.3773</td>\n",
       "      <td>26.2722</td>\n",
       "      <td>23.8238</td>\n",
       "      <td>-9.9574</td>\n",
       "      <td>6.3609</td>\n",
       "      <td>205.2610</td>\n",
       "      <td>g</td>\n",
       "    </tr>\n",
       "    <tr>\n",
       "      <th>2</th>\n",
       "      <td>162.0520</td>\n",
       "      <td>136.0310</td>\n",
       "      <td>4.0612</td>\n",
       "      <td>0.0374</td>\n",
       "      <td>0.0187</td>\n",
       "      <td>116.7410</td>\n",
       "      <td>-64.8580</td>\n",
       "      <td>-45.2160</td>\n",
       "      <td>76.9600</td>\n",
       "      <td>256.7880</td>\n",
       "      <td>g</td>\n",
       "    </tr>\n",
       "    <tr>\n",
       "      <th>3</th>\n",
       "      <td>23.8172</td>\n",
       "      <td>9.5728</td>\n",
       "      <td>2.3385</td>\n",
       "      <td>0.6147</td>\n",
       "      <td>0.3922</td>\n",
       "      <td>27.2107</td>\n",
       "      <td>-6.4633</td>\n",
       "      <td>-7.1513</td>\n",
       "      <td>10.4490</td>\n",
       "      <td>116.7370</td>\n",
       "      <td>g</td>\n",
       "    </tr>\n",
       "    <tr>\n",
       "      <th>4</th>\n",
       "      <td>75.1362</td>\n",
       "      <td>30.9205</td>\n",
       "      <td>3.1611</td>\n",
       "      <td>0.3168</td>\n",
       "      <td>0.1832</td>\n",
       "      <td>-5.5277</td>\n",
       "      <td>28.5525</td>\n",
       "      <td>21.8393</td>\n",
       "      <td>4.6480</td>\n",
       "      <td>356.4620</td>\n",
       "      <td>g</td>\n",
       "    </tr>\n",
       "    <tr>\n",
       "      <th>5</th>\n",
       "      <td>51.6240</td>\n",
       "      <td>21.1502</td>\n",
       "      <td>2.9085</td>\n",
       "      <td>0.2420</td>\n",
       "      <td>0.1340</td>\n",
       "      <td>50.8761</td>\n",
       "      <td>43.1887</td>\n",
       "      <td>9.8145</td>\n",
       "      <td>3.6130</td>\n",
       "      <td>238.0980</td>\n",
       "      <td>g</td>\n",
       "    </tr>\n",
       "    <tr>\n",
       "      <th>6</th>\n",
       "      <td>48.2468</td>\n",
       "      <td>17.3565</td>\n",
       "      <td>3.0332</td>\n",
       "      <td>0.2529</td>\n",
       "      <td>0.1515</td>\n",
       "      <td>8.5730</td>\n",
       "      <td>38.0957</td>\n",
       "      <td>10.5868</td>\n",
       "      <td>4.7920</td>\n",
       "      <td>219.0870</td>\n",
       "      <td>g</td>\n",
       "    </tr>\n",
       "    <tr>\n",
       "      <th>7</th>\n",
       "      <td>26.7897</td>\n",
       "      <td>13.7595</td>\n",
       "      <td>2.5521</td>\n",
       "      <td>0.4236</td>\n",
       "      <td>0.2174</td>\n",
       "      <td>29.6339</td>\n",
       "      <td>20.4560</td>\n",
       "      <td>-2.9292</td>\n",
       "      <td>0.8120</td>\n",
       "      <td>237.1340</td>\n",
       "      <td>g</td>\n",
       "    </tr>\n",
       "    <tr>\n",
       "      <th>8</th>\n",
       "      <td>96.2327</td>\n",
       "      <td>46.5165</td>\n",
       "      <td>4.1540</td>\n",
       "      <td>0.0779</td>\n",
       "      <td>0.0390</td>\n",
       "      <td>110.3550</td>\n",
       "      <td>85.0486</td>\n",
       "      <td>43.1844</td>\n",
       "      <td>4.8540</td>\n",
       "      <td>248.2260</td>\n",
       "      <td>g</td>\n",
       "    </tr>\n",
       "    <tr>\n",
       "      <th>9</th>\n",
       "      <td>46.7619</td>\n",
       "      <td>15.1993</td>\n",
       "      <td>2.5786</td>\n",
       "      <td>0.3377</td>\n",
       "      <td>0.1913</td>\n",
       "      <td>24.7548</td>\n",
       "      <td>43.8771</td>\n",
       "      <td>-6.6812</td>\n",
       "      <td>7.8750</td>\n",
       "      <td>102.2510</td>\n",
       "      <td>g</td>\n",
       "    </tr>\n",
       "  </tbody>\n",
       "</table>\n",
       "</div>"
      ],
      "text/plain": [
       "    fLength    fWidth   fSize   fConc  fConc1     fAsym  fM3Long  fM3Trans  \\\n",
       "0   28.7967   16.0021  2.6449  0.3918  0.1982   27.7004  22.0110   -8.2027   \n",
       "1   31.6036   11.7235  2.5185  0.5303  0.3773   26.2722  23.8238   -9.9574   \n",
       "2  162.0520  136.0310  4.0612  0.0374  0.0187  116.7410 -64.8580  -45.2160   \n",
       "3   23.8172    9.5728  2.3385  0.6147  0.3922   27.2107  -6.4633   -7.1513   \n",
       "4   75.1362   30.9205  3.1611  0.3168  0.1832   -5.5277  28.5525   21.8393   \n",
       "5   51.6240   21.1502  2.9085  0.2420  0.1340   50.8761  43.1887    9.8145   \n",
       "6   48.2468   17.3565  3.0332  0.2529  0.1515    8.5730  38.0957   10.5868   \n",
       "7   26.7897   13.7595  2.5521  0.4236  0.2174   29.6339  20.4560   -2.9292   \n",
       "8   96.2327   46.5165  4.1540  0.0779  0.0390  110.3550  85.0486   43.1844   \n",
       "9   46.7619   15.1993  2.5786  0.3377  0.1913   24.7548  43.8771   -6.6812   \n",
       "\n",
       "    fAlpha     fDist class  \n",
       "0  40.0920   81.8828     g  \n",
       "1   6.3609  205.2610     g  \n",
       "2  76.9600  256.7880     g  \n",
       "3  10.4490  116.7370     g  \n",
       "4   4.6480  356.4620     g  \n",
       "5   3.6130  238.0980     g  \n",
       "6   4.7920  219.0870     g  \n",
       "7   0.8120  237.1340     g  \n",
       "8   4.8540  248.2260     g  \n",
       "9   7.8750  102.2510     g  "
      ]
     },
     "metadata": {},
     "output_type": "display_data"
    },
    {
     "name": "stdout",
     "output_type": "stream",
     "text": [
      "19020\n"
     ]
    }
   ],
   "source": [
    "display(data.head(10))\n",
    "print(len(data))"
   ]
  },
  {
   "cell_type": "markdown",
   "metadata": {},
   "source": [
    "## Data balancing\n",
    "We can notice that there is an imbalance between the number of rows existent in 'g' and the number of rows existent in 'h'.\n",
    "This problem must be solved by removing random samples from data where class is 'g' until both number of rows are equal."
   ]
  },
  {
   "cell_type": "code",
   "execution_count": 3,
   "metadata": {},
   "outputs": [
    {
     "name": "stdout",
     "output_type": "stream",
     "text": [
      "12332\n",
      "6688\n"
     ]
    }
   ],
   "source": [
    "data_g = data[data['class'] == 'g']\n",
    "data_h = data[data['class'] == 'h']\n",
    "\n",
    "print (len(data_g))\n",
    "print (len(data_h))"
   ]
  },
  {
   "cell_type": "code",
   "execution_count": 4,
   "metadata": {},
   "outputs": [],
   "source": [
    "data_g = data_g.sample(n=len(data_h))\n",
    "\n",
    "data = pd.concat([data_g, data_h], ignore_index=True)"
   ]
  },
  {
   "cell_type": "code",
   "execution_count": 6,
   "metadata": {},
   "outputs": [
    {
     "name": "stdout",
     "output_type": "stream",
     "text": [
      "6688\n"
     ]
    }
   ],
   "source": [
    "print(len(data[data['class'] == 'g']))"
   ]
  },
  {
   "cell_type": "markdown",
   "metadata": {},
   "source": [
    "## Visualization\n",
    "Using describe method to check each attribute statistics, we can observe different ranges of values for each attribue. Therefore, normalization should be used to prevent features with large domain of values to dominate other features."
   ]
  },
  {
   "cell_type": "code",
   "execution_count": 7,
   "metadata": {},
   "outputs": [
    {
     "data": {
      "text/html": [
       "<div>\n",
       "<style scoped>\n",
       "    .dataframe tbody tr th:only-of-type {\n",
       "        vertical-align: middle;\n",
       "    }\n",
       "\n",
       "    .dataframe tbody tr th {\n",
       "        vertical-align: top;\n",
       "    }\n",
       "\n",
       "    .dataframe thead th {\n",
       "        text-align: right;\n",
       "    }\n",
       "</style>\n",
       "<table border=\"1\" class=\"dataframe\">\n",
       "  <thead>\n",
       "    <tr style=\"text-align: right;\">\n",
       "      <th></th>\n",
       "      <th>fLength</th>\n",
       "      <th>fWidth</th>\n",
       "      <th>fSize</th>\n",
       "      <th>fConc</th>\n",
       "      <th>fConc1</th>\n",
       "      <th>fAsym</th>\n",
       "      <th>fM3Long</th>\n",
       "      <th>fM3Trans</th>\n",
       "      <th>fAlpha</th>\n",
       "      <th>fDist</th>\n",
       "    </tr>\n",
       "  </thead>\n",
       "  <tbody>\n",
       "    <tr>\n",
       "      <th>count</th>\n",
       "      <td>13376.000000</td>\n",
       "      <td>13376.000000</td>\n",
       "      <td>13376.000000</td>\n",
       "      <td>13376.000000</td>\n",
       "      <td>13376.000000</td>\n",
       "      <td>13376.000000</td>\n",
       "      <td>13376.000000</td>\n",
       "      <td>13376.000000</td>\n",
       "      <td>13376.000000</td>\n",
       "      <td>13376.000000</td>\n",
       "    </tr>\n",
       "    <tr>\n",
       "      <th>mean</th>\n",
       "      <td>57.260836</td>\n",
       "      <td>23.698595</td>\n",
       "      <td>2.841548</td>\n",
       "      <td>0.379614</td>\n",
       "      <td>0.214959</td>\n",
       "      <td>-7.203546</td>\n",
       "      <td>7.387873</td>\n",
       "      <td>0.349263</td>\n",
       "      <td>31.491950</td>\n",
       "      <td>194.875838</td>\n",
       "    </tr>\n",
       "    <tr>\n",
       "      <th>std</th>\n",
       "      <td>47.038755</td>\n",
       "      <td>20.943337</td>\n",
       "      <td>0.477324</td>\n",
       "      <td>0.185325</td>\n",
       "      <td>0.112541</td>\n",
       "      <td>65.469857</td>\n",
       "      <td>56.422424</td>\n",
       "      <td>23.259910</td>\n",
       "      <td>27.032611</td>\n",
       "      <td>76.523942</td>\n",
       "    </tr>\n",
       "    <tr>\n",
       "      <th>min</th>\n",
       "      <td>4.283500</td>\n",
       "      <td>0.000000</td>\n",
       "      <td>1.941300</td>\n",
       "      <td>0.013100</td>\n",
       "      <td>0.000300</td>\n",
       "      <td>-457.916100</td>\n",
       "      <td>-331.780000</td>\n",
       "      <td>-205.894700</td>\n",
       "      <td>0.000000</td>\n",
       "      <td>1.282600</td>\n",
       "    </tr>\n",
       "    <tr>\n",
       "      <th>25%</th>\n",
       "      <td>24.670300</td>\n",
       "      <td>11.693425</td>\n",
       "      <td>2.494200</td>\n",
       "      <td>0.232900</td>\n",
       "      <td>0.126775</td>\n",
       "      <td>-23.861250</td>\n",
       "      <td>-14.936650</td>\n",
       "      <td>-10.935350</td>\n",
       "      <td>7.275975</td>\n",
       "      <td>142.057050</td>\n",
       "    </tr>\n",
       "    <tr>\n",
       "      <th>50%</th>\n",
       "      <td>38.663450</td>\n",
       "      <td>17.138050</td>\n",
       "      <td>2.752600</td>\n",
       "      <td>0.355800</td>\n",
       "      <td>0.197450</td>\n",
       "      <td>2.885500</td>\n",
       "      <td>14.497950</td>\n",
       "      <td>0.706600</td>\n",
       "      <td>23.479100</td>\n",
       "      <td>192.866500</td>\n",
       "    </tr>\n",
       "    <tr>\n",
       "      <th>75%</th>\n",
       "      <td>76.009700</td>\n",
       "      <td>26.289150</td>\n",
       "      <td>3.119125</td>\n",
       "      <td>0.506825</td>\n",
       "      <td>0.288000</td>\n",
       "      <td>23.805625</td>\n",
       "      <td>34.510300</td>\n",
       "      <td>11.252350</td>\n",
       "      <td>52.890475</td>\n",
       "      <td>242.441625</td>\n",
       "    </tr>\n",
       "    <tr>\n",
       "      <th>max</th>\n",
       "      <td>334.177000</td>\n",
       "      <td>256.382000</td>\n",
       "      <td>5.323300</td>\n",
       "      <td>0.893000</td>\n",
       "      <td>0.643000</td>\n",
       "      <td>575.240700</td>\n",
       "      <td>238.321000</td>\n",
       "      <td>179.851000</td>\n",
       "      <td>90.000000</td>\n",
       "      <td>495.561000</td>\n",
       "    </tr>\n",
       "  </tbody>\n",
       "</table>\n",
       "</div>"
      ],
      "text/plain": [
       "            fLength        fWidth         fSize         fConc        fConc1  \\\n",
       "count  13376.000000  13376.000000  13376.000000  13376.000000  13376.000000   \n",
       "mean      57.260836     23.698595      2.841548      0.379614      0.214959   \n",
       "std       47.038755     20.943337      0.477324      0.185325      0.112541   \n",
       "min        4.283500      0.000000      1.941300      0.013100      0.000300   \n",
       "25%       24.670300     11.693425      2.494200      0.232900      0.126775   \n",
       "50%       38.663450     17.138050      2.752600      0.355800      0.197450   \n",
       "75%       76.009700     26.289150      3.119125      0.506825      0.288000   \n",
       "max      334.177000    256.382000      5.323300      0.893000      0.643000   \n",
       "\n",
       "              fAsym       fM3Long      fM3Trans        fAlpha         fDist  \n",
       "count  13376.000000  13376.000000  13376.000000  13376.000000  13376.000000  \n",
       "mean      -7.203546      7.387873      0.349263     31.491950    194.875838  \n",
       "std       65.469857     56.422424     23.259910     27.032611     76.523942  \n",
       "min     -457.916100   -331.780000   -205.894700      0.000000      1.282600  \n",
       "25%      -23.861250    -14.936650    -10.935350      7.275975    142.057050  \n",
       "50%        2.885500     14.497950      0.706600     23.479100    192.866500  \n",
       "75%       23.805625     34.510300     11.252350     52.890475    242.441625  \n",
       "max      575.240700    238.321000    179.851000     90.000000    495.561000  "
      ]
     },
     "metadata": {},
     "output_type": "display_data"
    }
   ],
   "source": [
    "import matplotlib.pyplot as plt\n",
    "display(data.describe())"
   ]
  },
  {
   "cell_type": "markdown",
   "metadata": {},
   "source": [
    "By using the correlation matrix, that there is high correlation among fLength, fWidth, and fSize features. Another slight correlation between fDist feature and the first 3 features. "
   ]
  },
  {
   "cell_type": "code",
   "execution_count": 8,
   "metadata": {},
   "outputs": [
    {
     "data": {
      "text/plain": [
       "<matplotlib.colorbar.Colorbar at 0x7f586f559390>"
      ]
     },
     "execution_count": 8,
     "metadata": {},
     "output_type": "execute_result"
    },
    {
     "data": {
      "image/png": "[encoded data removed]",
      "text/plain": [
       "<Figure size 432x288 with 2 Axes>"
      ]
     },
     "metadata": {},
     "output_type": "display_data"
    }
   ],
   "source": [
    "plt.imshow(data.corr())\n",
    "plt.colorbar()"
   ]
  },
  {
   "cell_type": "markdown",
   "metadata": {},
   "source": [
    "Box plots can assert our previous claim of features have different ranges of values which may affect the learning process. "
   ]
  },
  {
   "cell_type": "code",
   "execution_count": 9,
   "metadata": {},
   "outputs": [
    {
     "data": {
      "image/png": "[encoded data removed]",
      "text/plain": [
       "<Figure size 432x288 with 1 Axes>"
      ]
     },
     "metadata": {},
     "output_type": "display_data"
    },
    {
     "data": {
      "image/png": "[encoded data removed]",
      "text/plain": [
       "<Figure size 432x288 with 1 Axes>"
      ]
     },
     "metadata": {},
     "output_type": "display_data"
    }
   ],
   "source": [
    "columns = data.columns\n",
    "box_plots_1 = data.boxplot(column = ['fLength', 'fWidth','fSize','fConc', 'fConc1'], patch_artist = True, showfliers=False)\n",
    "plt.figure()\n",
    "box_plots_2 = data.boxplot(column = ['fAsym','fM3Long','fM3Trans', 'fAlpha', 'fDist'], patch_artist = True, showfliers=False)"
   ]
  },
  {
   "cell_type": "markdown",
   "metadata": {},
   "source": [
    "## Preprocessing\n",
    "As a result of our conclusions above, it is obvious now that we need to perform 2 important preprocessing steps, features normalization and features selection.\n",
    "We are going to use z-normalization to normalize the data. We are not going use min-max since there are some alot of outliers in each feature. \n",
    "We will also apply PCA to reduce the correlated, unnecessary features in our dataset. "
   ]
  },
  {
   "cell_type": "markdown",
   "metadata": {},
   "source": [
    "We first normalize the data using L2 Norm, we use Z-score normalization."
   ]
  },
  {
   "cell_type": "code",
   "execution_count": 11,
   "metadata": {},
   "outputs": [
    {
     "data": {
      "text/html": [
       "<div>\n",
       "<style scoped>\n",
       "    .dataframe tbody tr th:only-of-type {\n",
       "        vertical-align: middle;\n",
       "    }\n",
       "\n",
       "    .dataframe tbody tr th {\n",
       "        vertical-align: top;\n",
       "    }\n",
       "\n",
       "    .dataframe thead th {\n",
       "        text-align: right;\n",
       "    }\n",
       "</style>\n",
       "<table border=\"1\" class=\"dataframe\">\n",
       "  <thead>\n",
       "    <tr style=\"text-align: right;\">\n",
       "      <th></th>\n",
       "      <th>fLength</th>\n",
       "      <th>fWidth</th>\n",
       "      <th>fSize</th>\n",
       "      <th>fConc</th>\n",
       "      <th>fConc1</th>\n",
       "      <th>fAsym</th>\n",
       "      <th>fM3Long</th>\n",
       "      <th>fM3Trans</th>\n",
       "      <th>fAlpha</th>\n",
       "      <th>fDist</th>\n",
       "      <th>class</th>\n",
       "    </tr>\n",
       "  </thead>\n",
       "  <tbody>\n",
       "    <tr>\n",
       "      <th>0</th>\n",
       "      <td>0.247350</td>\n",
       "      <td>0.061871</td>\n",
       "      <td>0.011812</td>\n",
       "      <td>0.000845</td>\n",
       "      <td>0.000501</td>\n",
       "      <td>0.211877</td>\n",
       "      <td>0.227675</td>\n",
       "      <td>0.027397</td>\n",
       "      <td>0.004909</td>\n",
       "      <td>0.915067</td>\n",
       "      <td>g</td>\n",
       "    </tr>\n",
       "    <tr>\n",
       "      <th>1</th>\n",
       "      <td>0.335547</td>\n",
       "      <td>0.308300</td>\n",
       "      <td>0.035320</td>\n",
       "      <td>0.002433</td>\n",
       "      <td>0.001300</td>\n",
       "      <td>0.207229</td>\n",
       "      <td>0.076424</td>\n",
       "      <td>-0.228134</td>\n",
       "      <td>0.539680</td>\n",
       "      <td>0.631681</td>\n",
       "      <td>g</td>\n",
       "    </tr>\n",
       "    <tr>\n",
       "      <th>2</th>\n",
       "      <td>0.226525</td>\n",
       "      <td>0.090560</td>\n",
       "      <td>0.008681</td>\n",
       "      <td>0.000414</td>\n",
       "      <td>0.000215</td>\n",
       "      <td>-0.366666</td>\n",
       "      <td>0.103166</td>\n",
       "      <td>0.073526</td>\n",
       "      <td>0.004228</td>\n",
       "      <td>0.888763</td>\n",
       "      <td>g</td>\n",
       "    </tr>\n",
       "    <tr>\n",
       "      <th>3</th>\n",
       "      <td>0.311248</td>\n",
       "      <td>0.099865</td>\n",
       "      <td>0.012521</td>\n",
       "      <td>0.000579</td>\n",
       "      <td>0.000306</td>\n",
       "      <td>0.215388</td>\n",
       "      <td>0.331985</td>\n",
       "      <td>-0.071522</td>\n",
       "      <td>0.011250</td>\n",
       "      <td>0.855071</td>\n",
       "      <td>g</td>\n",
       "    </tr>\n",
       "    <tr>\n",
       "      <th>4</th>\n",
       "      <td>0.202091</td>\n",
       "      <td>0.110648</td>\n",
       "      <td>0.016118</td>\n",
       "      <td>0.002101</td>\n",
       "      <td>0.001138</td>\n",
       "      <td>0.228396</td>\n",
       "      <td>0.153716</td>\n",
       "      <td>0.088794</td>\n",
       "      <td>0.144489</td>\n",
       "      <td>0.917658</td>\n",
       "      <td>g</td>\n",
       "    </tr>\n",
       "    <tr>\n",
       "      <th>5</th>\n",
       "      <td>0.239334</td>\n",
       "      <td>0.051951</td>\n",
       "      <td>0.014617</td>\n",
       "      <td>0.002362</td>\n",
       "      <td>0.001614</td>\n",
       "      <td>0.080048</td>\n",
       "      <td>0.185718</td>\n",
       "      <td>-0.021984</td>\n",
       "      <td>0.077515</td>\n",
       "      <td>0.944673</td>\n",
       "      <td>g</td>\n",
       "    </tr>\n",
       "    <tr>\n",
       "      <th>6</th>\n",
       "      <td>0.113230</td>\n",
       "      <td>0.056469</td>\n",
       "      <td>0.011368</td>\n",
       "      <td>0.002937</td>\n",
       "      <td>0.001676</td>\n",
       "      <td>-0.112341</td>\n",
       "      <td>-0.101249</td>\n",
       "      <td>-0.055949</td>\n",
       "      <td>0.030801</td>\n",
       "      <td>0.978212</td>\n",
       "      <td>g</td>\n",
       "    </tr>\n",
       "    <tr>\n",
       "      <th>7</th>\n",
       "      <td>0.172902</td>\n",
       "      <td>0.104400</td>\n",
       "      <td>0.019836</td>\n",
       "      <td>0.004342</td>\n",
       "      <td>0.002411</td>\n",
       "      <td>-0.205675</td>\n",
       "      <td>-0.122159</td>\n",
       "      <td>-0.086258</td>\n",
       "      <td>0.039869</td>\n",
       "      <td>0.944739</td>\n",
       "      <td>g</td>\n",
       "    </tr>\n",
       "    <tr>\n",
       "      <th>8</th>\n",
       "      <td>0.196607</td>\n",
       "      <td>0.045592</td>\n",
       "      <td>0.010200</td>\n",
       "      <td>0.001693</td>\n",
       "      <td>0.000856</td>\n",
       "      <td>0.054225</td>\n",
       "      <td>0.119092</td>\n",
       "      <td>-0.031436</td>\n",
       "      <td>0.016489</td>\n",
       "      <td>0.969936</td>\n",
       "      <td>g</td>\n",
       "    </tr>\n",
       "    <tr>\n",
       "      <th>9</th>\n",
       "      <td>0.333121</td>\n",
       "      <td>0.091996</td>\n",
       "      <td>0.014505</td>\n",
       "      <td>0.001808</td>\n",
       "      <td>0.001021</td>\n",
       "      <td>0.105151</td>\n",
       "      <td>0.208461</td>\n",
       "      <td>0.074981</td>\n",
       "      <td>0.065870</td>\n",
       "      <td>0.903260</td>\n",
       "      <td>g</td>\n",
       "    </tr>\n",
       "  </tbody>\n",
       "</table>\n",
       "</div>"
      ],
      "text/plain": [
       "    fLength    fWidth     fSize     fConc    fConc1     fAsym   fM3Long  \\\n",
       "0  0.247350  0.061871  0.011812  0.000845  0.000501  0.211877  0.227675   \n",
       "1  0.335547  0.308300  0.035320  0.002433  0.001300  0.207229  0.076424   \n",
       "2  0.226525  0.090560  0.008681  0.000414  0.000215 -0.366666  0.103166   \n",
       "3  0.311248  0.099865  0.012521  0.000579  0.000306  0.215388  0.331985   \n",
       "4  0.202091  0.110648  0.016118  0.002101  0.001138  0.228396  0.153716   \n",
       "5  0.239334  0.051951  0.014617  0.002362  0.001614  0.080048  0.185718   \n",
       "6  0.113230  0.056469  0.011368  0.002937  0.001676 -0.112341 -0.101249   \n",
       "7  0.172902  0.104400  0.019836  0.004342  0.002411 -0.205675 -0.122159   \n",
       "8  0.196607  0.045592  0.010200  0.001693  0.000856  0.054225  0.119092   \n",
       "9  0.333121  0.091996  0.014505  0.001808  0.001021  0.105151  0.208461   \n",
       "\n",
       "   fM3Trans    fAlpha     fDist class  \n",
       "0  0.027397  0.004909  0.915067     g  \n",
       "1 -0.228134  0.539680  0.631681     g  \n",
       "2  0.073526  0.004228  0.888763     g  \n",
       "3 -0.071522  0.011250  0.855071     g  \n",
       "4  0.088794  0.144489  0.917658     g  \n",
       "5 -0.021984  0.077515  0.944673     g  \n",
       "6 -0.055949  0.030801  0.978212     g  \n",
       "7 -0.086258  0.039869  0.944739     g  \n",
       "8 -0.031436  0.016489  0.969936     g  \n",
       "9  0.074981  0.065870  0.903260     g  "
      ]
     },
     "execution_count": 11,
     "metadata": {},
     "output_type": "execute_result"
    }
   ],
   "source": [
    "from sklearn.preprocessing import normalize\n",
    "\n",
    "X = data.drop(columns=['class'])\n",
    "Y = pd.DataFrame(data['class'], columns=['class'])\n",
    "X = pd.DataFrame(normalize(X), columns=X.columns)\n",
    "\n",
    "data_norm = pd.concat([X, Y], axis=1)\n",
    "\n",
    "data_norm.head(10)"
   ]
  },
  {
   "cell_type": "markdown",
   "metadata": {},
   "source": [
    "We apply PCA to the normalized data with number of components = 5, we choose 5 based on our visualization results\n",
    "that show that the number of features can be reduced to 5 uncorrelated unique features."
   ]
  },
  {
   "cell_type": "code",
   "execution_count": 13,
   "metadata": {},
   "outputs": [
    {
     "data": {
      "text/html": [
       "<div>\n",
       "<style scoped>\n",
       "    .dataframe tbody tr th:only-of-type {\n",
       "        vertical-align: middle;\n",
       "    }\n",
       "\n",
       "    .dataframe tbody tr th {\n",
       "        vertical-align: top;\n",
       "    }\n",
       "\n",
       "    .dataframe thead th {\n",
       "        text-align: right;\n",
       "    }\n",
       "</style>\n",
       "<table border=\"1\" class=\"dataframe\">\n",
       "  <thead>\n",
       "    <tr style=\"text-align: right;\">\n",
       "      <th></th>\n",
       "      <th>pca_0</th>\n",
       "      <th>pca_1</th>\n",
       "      <th>pca_2</th>\n",
       "      <th>pca_3</th>\n",
       "      <th>pca_4</th>\n",
       "    </tr>\n",
       "  </thead>\n",
       "  <tbody>\n",
       "    <tr>\n",
       "      <th>count</th>\n",
       "      <td>1.337600e+04</td>\n",
       "      <td>1.337600e+04</td>\n",
       "      <td>1.337600e+04</td>\n",
       "      <td>1.337600e+04</td>\n",
       "      <td>1.337600e+04</td>\n",
       "    </tr>\n",
       "    <tr>\n",
       "      <th>mean</th>\n",
       "      <td>-8.499315e-18</td>\n",
       "      <td>-3.824692e-17</td>\n",
       "      <td>-1.779544e-17</td>\n",
       "      <td>-1.593622e-17</td>\n",
       "      <td>-4.316058e-19</td>\n",
       "    </tr>\n",
       "    <tr>\n",
       "      <th>std</th>\n",
       "      <td>2.414170e-01</td>\n",
       "      <td>1.915896e-01</td>\n",
       "      <td>1.713429e-01</td>\n",
       "      <td>1.491502e-01</td>\n",
       "      <td>8.377241e-02</td>\n",
       "    </tr>\n",
       "    <tr>\n",
       "      <th>min</th>\n",
       "      <td>-4.887379e-01</td>\n",
       "      <td>-2.779743e-01</td>\n",
       "      <td>-4.158323e-01</td>\n",
       "      <td>-4.627462e-01</td>\n",
       "      <td>-4.355954e-01</td>\n",
       "    </tr>\n",
       "    <tr>\n",
       "      <th>25%</th>\n",
       "      <td>-1.648228e-01</td>\n",
       "      <td>-1.373259e-01</td>\n",
       "      <td>-1.185146e-01</td>\n",
       "      <td>-9.736965e-02</td>\n",
       "      <td>-5.669858e-02</td>\n",
       "    </tr>\n",
       "    <tr>\n",
       "      <th>50%</th>\n",
       "      <td>-4.435430e-02</td>\n",
       "      <td>-4.578463e-02</td>\n",
       "      <td>-3.085270e-02</td>\n",
       "      <td>-4.676845e-03</td>\n",
       "      <td>1.379971e-03</td>\n",
       "    </tr>\n",
       "    <tr>\n",
       "      <th>75%</th>\n",
       "      <td>1.134313e-01</td>\n",
       "      <td>7.868478e-02</td>\n",
       "      <td>9.212340e-02</td>\n",
       "      <td>8.066759e-02</td>\n",
       "      <td>5.584991e-02</td>\n",
       "    </tr>\n",
       "    <tr>\n",
       "      <th>max</th>\n",
       "      <td>1.048329e+00</td>\n",
       "      <td>9.899469e-01</td>\n",
       "      <td>8.401563e-01</td>\n",
       "      <td>8.764813e-01</td>\n",
       "      <td>4.810616e-01</td>\n",
       "    </tr>\n",
       "  </tbody>\n",
       "</table>\n",
       "</div>"
      ],
      "text/plain": [
       "              pca_0         pca_1         pca_2         pca_3         pca_4\n",
       "count  1.337600e+04  1.337600e+04  1.337600e+04  1.337600e+04  1.337600e+04\n",
       "mean  -8.499315e-18 -3.824692e-17 -1.779544e-17 -1.593622e-17 -4.316058e-19\n",
       "std    2.414170e-01  1.915896e-01  1.713429e-01  1.491502e-01  8.377241e-02\n",
       "min   -4.887379e-01 -2.779743e-01 -4.158323e-01 -4.627462e-01 -4.355954e-01\n",
       "25%   -1.648228e-01 -1.373259e-01 -1.185146e-01 -9.736965e-02 -5.669858e-02\n",
       "50%   -4.435430e-02 -4.578463e-02 -3.085270e-02 -4.676845e-03  1.379971e-03\n",
       "75%    1.134313e-01  7.868478e-02  9.212340e-02  8.066759e-02  5.584991e-02\n",
       "max    1.048329e+00  9.899469e-01  8.401563e-01  8.764813e-01  4.810616e-01"
      ]
     },
     "metadata": {},
     "output_type": "display_data"
    }
   ],
   "source": [
    "from sklearn.decomposition import PCA\n",
    "\n",
    "pca = PCA(n_components=5)\n",
    "pca.fit(data_norm.loc[:, data_norm.columns != 'class'])\n",
    "columns = ['pca_%i' % i for i in range(5)]\n",
    "X_pca = pd.DataFrame(pca.transform(data_norm.loc[:, data_norm.columns != 'class']),\n",
    "                         columns=columns, index=data_norm.index)\n",
    "\n",
    "data_proc = pd.concat([X_pca, Y], axis=1)\n",
    "display(data_proc.describe())\n"
   ]
  },
  {
   "cell_type": "markdown",
   "metadata": {},
   "source": [
    "## Data Split\n",
    "We need to randomly split the data to 70% training set and 30% testing set. We do this by first separating between class column (y) from features (x), and finally use sklearn. We use two versions, one for the unpreprocessed data and one for the preprocessed one."
   ]
  },
  {
   "cell_type": "code",
   "execution_count": 14,
   "metadata": {},
   "outputs": [],
   "source": [
    "from sklearn.model_selection import train_test_split\n",
    "\n",
    "train_df, test_df = train_test_split(data, test_size=0.3)\n",
    "train_proc_df, test_proc_df = train_test_split(data_proc, test_size=0.3)"
   ]
  },
  {
   "cell_type": "code",
   "execution_count": 15,
   "metadata": {},
   "outputs": [
    {
     "name": "stdout",
     "output_type": "stream",
     "text": [
      "9363\n",
      "4013\n"
     ]
    }
   ],
   "source": [
    "print(len(train_df))\n",
    "print(len(test_df))"
   ]
  },
  {
   "cell_type": "markdown",
   "metadata": {},
   "source": [
    "## Classification"
   ]
  },
  {
   "cell_type": "code",
   "execution_count": 29,
   "metadata": {},
   "outputs": [],
   "source": [
    "def split_features(train_df, test_df):\n",
    "    X_train = train_df.drop('class', axis=1)\n",
    "    y_train = train_df['class']\n",
    "\n",
    "    X_test = test_df.drop('class', axis=1)\n",
    "    y_test = test_df['class']\n",
    "    \n",
    "    return X_train, y_train, X_test, y_test\n",
    "\n",
    "X_train, y_train, X_test, y_test = split_features(train_df, test_df)\n",
    "X_proc_train, y_proc_train, X_proc_test, y_proc_test = split_features(train_proc_df, test_proc_df)"
   ]
  },
  {
   "cell_type": "code",
   "execution_count": 30,
   "metadata": {},
   "outputs": [],
   "source": [
    "from sklearn.metrics import accuracy_score, confusion_matrix, precision_score, recall_score, f1_score\n",
    "\n",
    "def model_scores(y_pred, y_test):\n",
    "    print(\"Precision Score : \" + str(precision_score(y_test, y_pred, average='macro')))\n",
    "    print(\"Recall Score : \" + str(recall_score(y_test, y_pred, average='macro')))\n",
    "    print(\"F Score : \" + str(f1_score(y_test, y_pred, average=\"macro\")))\n",
    "    print(\"Confusion matrix : \" + str(confusion_matrix(y_test, y_pred)))"
   ]
  },
  {
   "cell_type": "markdown",
   "metadata": {},
   "source": [
    "#### 1. AdaBoost Classifier\n",
    "We can see from the following results that the AdaBoostClassifier model achieves a maximum accuracy result of **82.63%** at number of estimators = 1000, using default base estimator as DecisionTreeClassifier(max_depth=1) *on . It can be noticed that the increase of the number of estimators results in a better accuracy, but takes a longer time to fit and predict."
   ]
  },
  {
   "cell_type": "code",
   "execution_count": 17,
   "metadata": {},
   "outputs": [
    {
     "name": "stdout",
     "output_type": "stream",
     "text": [
      "0.7699975080986793  at n_estimators =  10  time =  0.23298239707946777\n",
      "0.8203339147769748  at n_estimators =  120  time =  2.7992496490478516\n",
      "0.8208322950411163  at n_estimators =  230  time =  5.558085918426514\n",
      "0.8240717667580364  at n_estimators =  340  time =  8.814775943756104\n",
      "0.819087964116621  at n_estimators =  450  time =  13.28333330154419\n",
      "0.8220782457014703  at n_estimators =  560  time =  18.301065921783447\n",
      "0.8230750062297533  at n_estimators =  670  time =  21.133208990097046\n",
      "0.8218290555693994  at n_estimators =  780  time =  35.6477267742157\n",
      "0.8210814851731871  at n_estimators =  890  time =  29.04766845703125\n",
      "0.8208322950411163  at n_estimators =  1000  time =  28.00920557975769\n"
     ]
    }
   ],
   "source": [
    "from sklearn.ensemble import AdaBoostClassifier\n",
    "\n",
    "n_estimators = [int(x) for x in np.linspace(start=10, stop=1000, num=10)]\n",
    "\n",
    "for n in n_estimators:\n",
    "    start_time = time()\n",
    "    model = AdaBoostClassifier(n_estimators=n)\n",
    "    model.fit(X_train, y_train)\n",
    "    y_pred = model.predict(X_test)\n",
    "    print(accuracy_score(y_pred, y_test), \" at n_estimators = \", n, \" time = \", time() - start_time)"
   ]
  },
  {
   "cell_type": "markdown",
   "metadata": {},
   "source": [
    "Using processed data (after normalization and feature reduction)."
   ]
  },
  {
   "cell_type": "code",
   "execution_count": 18,
   "metadata": {},
   "outputs": [
    {
     "name": "stdout",
     "output_type": "stream",
     "text": [
      "0.6902566658360328  at n_estimators =  10  time =  0.300262451171875\n",
      "0.7076999750809868  at n_estimators =  120  time =  2.4625580310821533\n",
      "0.7079491652130575  at n_estimators =  230  time =  4.472189426422119\n",
      "0.7072015948168453  at n_estimators =  340  time =  7.2161760330200195\n",
      "0.706454024420633  at n_estimators =  450  time =  8.430338382720947\n",
      "0.7039621230999252  at n_estimators =  560  time =  12.976925373077393\n",
      "0.7072015948168453  at n_estimators =  670  time =  14.420040369033813\n",
      "0.7081983553451283  at n_estimators =  780  time =  15.408960819244385\n",
      "0.7076999750809868  at n_estimators =  890  time =  16.96372699737549\n",
      "0.7081983553451283  at n_estimators =  1000  time =  18.296377182006836\n"
     ]
    }
   ],
   "source": [
    "for n in n_estimators:\n",
    "    start_time = time()\n",
    "    model = AdaBoostClassifier(n_estimators=n)\n",
    "    model.fit(X_proc_train, y_proc_train)\n",
    "    y_pred = model.predict(X_proc_test)\n",
    "    print(accuracy_score(y_pred, y_proc_test), \" at n_estimators = \", n, \" time = \", time() - start_time)"
   ]
  },
  {
   "cell_type": "markdown",
   "metadata": {},
   "source": [
    "We can increase the max depth of the decision tree classifier acting as a base estimator for the adaboost algorithm, we notice that the accuracy has increased to **84.77%** at n_estimators=890, but the time taken to fit the model is significantly increasing too.\n"
   ]
  },
  {
   "cell_type": "code",
   "execution_count": 19,
   "metadata": {},
   "outputs": [
    {
     "name": "stdout",
     "output_type": "stream",
     "text": [
      "0.8240717667580364  at n_estimators =  10  time =  0.7072975635528564\n",
      "0.8128582108148518  at n_estimators =  120  time =  8.391402244567871\n",
      "0.8146025417393471  at n_estimators =  230  time =  16.007941961288452\n",
      "0.8268128582108148  at n_estimators =  340  time =  22.87144660949707\n",
      "0.8283079990032395  at n_estimators =  450  time =  30.063548803329468\n",
      "0.8347869424370795  at n_estimators =  560  time =  38.66458034515381\n",
      "0.8425118365312734  at n_estimators =  670  time =  48.35356950759888\n",
      "0.8372788437577872  at n_estimators =  780  time =  53.80435252189636\n",
      "0.8402691253426364  at n_estimators =  890  time =  62.19586515426636\n",
      "0.845003737851981  at n_estimators =  1000  time =  81.35519528388977\n"
     ]
    }
   ],
   "source": [
    "from sklearn.tree import DecisionTreeClassifier\n",
    "\n",
    "n_estimators = [int(x) for x in np.linspace(start=10, stop=1000, num=10)]\n",
    "\n",
    "for n in n_estimators:\n",
    "    start_time = time()\n",
    "    model = AdaBoostClassifier(base_estimator=DecisionTreeClassifier(max_depth=5), n_estimators=n)\n",
    "    model.fit(X_train, y_train)\n",
    "    y_pred = model.predict(X_test)\n",
    "    print(accuracy_score(y_pred, y_test), \" at n_estimators = \", n, \" time = \", time() - start_time)"
   ]
  },
  {
   "cell_type": "markdown",
   "metadata": {},
   "source": [
    "#### 2. K-NN classifier\n",
    "We can see from the following results that the best accuracy of **76.7%** is achieved at k = 24. Which is less than the accuracy we achieved using **AdaBoost (84.77%)**, but it is noticed that the time taken to fit the model and predict is way less than that of AdaBoost (0.17s vs 57s)."
   ]
  },
  {
   "cell_type": "code",
   "execution_count": 20,
   "metadata": {},
   "outputs": [
    {
     "name": "stdout",
     "output_type": "stream",
     "text": [
      "0.7645153251931224  at k =  5  time =  0.5589761734008789\n",
      "0.7607774732120608  at k =  8  time =  0.1688859462738037\n",
      "0.7647645153251931  at k =  12  time =  0.14991092681884766\n",
      "0.7642661350610516  at k =  16  time =  0.16152620315551758\n",
      "0.76052828307999  at k =  20  time =  0.22388243675231934\n",
      "0.7617742337403439  at k =  24  time =  0.3950991630554199\n",
      "0.7600299028158485  at k =  28  time =  0.2769935131072998\n",
      "0.7607774732120608  at k =  32  time =  0.21049904823303223\n",
      "0.7587839521554947  at k =  36  time =  0.23679757118225098\n",
      "0.75728881136307  at k =  40  time =  0.6356022357940674\n"
     ]
    }
   ],
   "source": [
    "from sklearn.neighbors import KNeighborsClassifier\n",
    "\n",
    "k_s = [int(x) for x in np.linspace(start=5, stop=40, num=10)]\n",
    "\n",
    "for k in k_s:\n",
    "    start_time = time()\n",
    "    model = KNeighborsClassifier(n_neighbors=k)\n",
    "    model.fit(X_train, y_train)\n",
    "    y_pred = model.predict(X_test)\n",
    "    print(accuracy_score(y_pred, y_test), \" at k = \", k, \" time = \", time() - start_time)"
   ]
  },
  {
   "cell_type": "code",
   "execution_count": 22,
   "metadata": {},
   "outputs": [
    {
     "name": "stdout",
     "output_type": "stream",
     "text": [
      "0.7199102915524546  at k =  5  time =  0.0769658088684082\n",
      "0.7136805382506852  at k =  8  time =  0.06995916366577148\n",
      "0.7209070520807376  at k =  12  time =  0.07504987716674805\n",
      "0.7204086718165961  at k =  16  time =  0.09013223648071289\n",
      "0.72489409419387  at k =  20  time =  0.0945577621459961\n",
      "0.7268876152504361  at k =  24  time =  0.09641265869140625\n",
      "0.7288811363070022  at k =  28  time =  0.12529206275939941\n",
      "0.7296287067032146  at k =  32  time =  0.11247134208679199\n",
      "0.732369798155993  at k =  36  time =  0.14387774467468262\n",
      "0.7326189882880638  at k =  40  time =  0.12660765647888184\n"
     ]
    }
   ],
   "source": [
    "from sklearn.neighbors import KNeighborsClassifier\n",
    "\n",
    "k_s = [int(x) for x in np.linspace(start=5, stop=40, num=10)]\n",
    "\n",
    "for k in k_s:\n",
    "    start_time = time()\n",
    "    model = KNeighborsClassifier(n_neighbors=k)\n",
    "    model.fit(X_proc_train, y_proc_train)\n",
    "    y_pred = model.predict(X_proc_test)\n",
    "    print(accuracy_score(y_pred, y_proc_test), \" at k = \", k, \" time = \", time() - start_time)"
   ]
  },
  {
   "cell_type": "markdown",
   "metadata": {},
   "source": [
    "#### 3. Random Forests\n",
    "The random forests is trained the exact same way AdaBoost is trained earlier. It can be seen that random forests achieves maximum accuracy of **86.51%** at n_estimators = 670, and takes 18.8s to fit and predict data, which is better than AdaBoost in terms of both accuracy (82.6%) and time (21s)."
   ]
  },
  {
   "cell_type": "code",
   "execution_count": 26,
   "metadata": {},
   "outputs": [
    {
     "name": "stdout",
     "output_type": "stream",
     "text": [
      "0.8360328930974333  at n_estimators =  10  time =  0.31835484504699707\n",
      "0.852728631946175  at n_estimators =  120  time =  3.703810691833496\n",
      "0.8519810615499627  at n_estimators =  230  time =  6.618767023086548\n",
      "0.8539745826065288  at n_estimators =  340  time =  13.050545454025269\n",
      "0.853725392474458  at n_estimators =  450  time =  14.580679655075073\n",
      "0.8547221530027411  at n_estimators =  560  time =  22.304248332977295\n",
      "0.8529778220782457  at n_estimators =  670  time =  31.998010396957397\n",
      "0.8544729628706703  at n_estimators =  780  time =  40.683979749679565\n",
      "0.8552205332668826  at n_estimators =  890  time =  31.256914377212524\n",
      "0.8544729628706703  at n_estimators =  1000  time =  35.4376962184906\n"
     ]
    }
   ],
   "source": [
    "from sklearn.ensemble import RandomForestClassifier\n",
    "\n",
    "n_estimators = [int(x) for x in np.linspace(start=10, stop=1000, num=10)]\n",
    "\n",
    "for n in n_estimators:\n",
    "    start_time = time()\n",
    "    model = RandomForestClassifier(n_estimators=n)\n",
    "    model.fit(X_train, y_train)\n",
    "    y_pred = model.predict(X_test)\n",
    "    print(accuracy_score(y_pred, y_test), \" at n_estimators = \", n, \" time = \", time() - start_time)"
   ]
  },
  {
   "cell_type": "code",
   "execution_count": 24,
   "metadata": {},
   "outputs": [
    {
     "name": "stdout",
     "output_type": "stream",
     "text": [
      "0.7174183902317468  at n_estimators =  10  time =  0.2803490161895752\n",
      "0.7463244455519561  at n_estimators =  120  time =  3.616668462753296\n",
      "0.7493147271368054  at n_estimators =  230  time =  8.564835548400879\n",
      "0.74433092449539  at n_estimators =  340  time =  9.31927752494812\n",
      "0.7465736356840269  at n_estimators =  450  time =  10.936365127563477\n",
      "0.7445801146274608  at n_estimators =  560  time =  13.834892272949219\n",
      "0.7453276850236731  at n_estimators =  670  time =  18.890822410583496\n",
      "0.7440817343633193  at n_estimators =  780  time =  18.567312479019165\n",
      "0.7455768751557438  at n_estimators =  890  time =  23.345545053482056\n",
      "0.7455768751557438  at n_estimators =  1000  time =  28.84114146232605\n"
     ]
    }
   ],
   "source": [
    "from sklearn.ensemble import RandomForestClassifier\n",
    "\n",
    "n_estimators = [int(x) for x in np.linspace(start=10, stop=1000, num=10)]\n",
    "\n",
    "for n in n_estimators:\n",
    "    start_time = time()\n",
    "    model = RandomForestClassifier(n_estimators=n)\n",
    "    model.fit(X_proc_train, y_proc_train)\n",
    "    y_pred = model.predict(X_proc_test)\n",
    "    print(accuracy_score(y_pred, y_proc_test), \" at n_estimators = \", n, \" time = \", time() - start_time)"
   ]
  },
  {
   "cell_type": "markdown",
   "metadata": {},
   "source": [
    "#### 4. SVM Classifier\n",
    "The Linear SVM classifier performed badly with accuracy less than **57%**. Which means that the data was not linearly separable. The wide range of C regularization values did not introduce big contribution to the accuracy, which endorses our claim.  "
   ]
  },
  {
   "cell_type": "code",
   "execution_count": 31,
   "metadata": {},
   "outputs": [
    {
     "name": "stderr",
     "output_type": "stream",
     "text": [
      "/usr/lib/python3.6/site-packages/sklearn/svm/base.py:196: FutureWarning: The default value of gamma will change from 'auto' to 'scale' in version 0.22 to account better for unscaled features. Set gamma explicitly to 'auto' or 'scale' to avoid this warning.\n",
      "  \"avoid this warning.\", FutureWarning)\n"
     ]
    },
    {
     "name": "stdout",
     "output_type": "stream",
     "text": [
      "0.5033640667829554  at C =  1  time =  8.371149778366089\n",
      "Precision Score : 0.5060828483498141\n",
      "Recall Score : 0.5608074888883371\n",
      "F Score : 0.3614191538907127\n",
      "Confusion matrix : [[1956 1954]\n",
      " [  39   64]]\n"
     ]
    },
    {
     "name": "stderr",
     "output_type": "stream",
     "text": [
      "/usr/lib/python3.6/site-packages/sklearn/svm/base.py:196: FutureWarning: The default value of gamma will change from 'auto' to 'scale' in version 0.22 to account better for unscaled features. Set gamma explicitly to 'auto' or 'scale' to avoid this warning.\n",
      "  \"avoid this warning.\", FutureWarning)\n"
     ]
    },
    {
     "name": "stdout",
     "output_type": "stream",
     "text": [
      "0.5026164963867431  at C =  5  time =  10.108948945999146\n",
      "Precision Score : 0.5053166861653638\n",
      "Recall Score : 0.5473496411917214\n",
      "F Score : 0.36295143256530704\n",
      "Confusion matrix : [[1948 1949]\n",
      " [  47   69]]\n"
     ]
    },
    {
     "name": "stderr",
     "output_type": "stream",
     "text": [
      "/usr/lib/python3.6/site-packages/sklearn/svm/base.py:196: FutureWarning: The default value of gamma will change from 'auto' to 'scale' in version 0.22 to account better for unscaled features. Set gamma explicitly to 'auto' or 'scale' to avoid this warning.\n",
      "  \"avoid this warning.\", FutureWarning)\n"
     ]
    },
    {
     "name": "stdout",
     "output_type": "stream",
     "text": [
      "0.5026164963867431  at C =  10  time =  10.118077039718628\n",
      "Precision Score : 0.5053166861653638\n",
      "Recall Score : 0.5473496411917214\n",
      "F Score : 0.36295143256530704\n",
      "Confusion matrix : [[1948 1949]\n",
      " [  47   69]]\n"
     ]
    },
    {
     "name": "stderr",
     "output_type": "stream",
     "text": [
      "/usr/lib/python3.6/site-packages/sklearn/svm/base.py:196: FutureWarning: The default value of gamma will change from 'auto' to 'scale' in version 0.22 to account better for unscaled features. Set gamma explicitly to 'auto' or 'scale' to avoid this warning.\n",
      "  \"avoid this warning.\", FutureWarning)\n"
     ]
    },
    {
     "name": "stdout",
     "output_type": "stream",
     "text": [
      "0.5026164963867431  at C =  100  time =  11.120841264724731\n",
      "Precision Score : 0.5053166861653638\n",
      "Recall Score : 0.5473496411917214\n",
      "F Score : 0.36295143256530704\n",
      "Confusion matrix : [[1948 1949]\n",
      " [  47   69]]\n"
     ]
    },
    {
     "name": "stderr",
     "output_type": "stream",
     "text": [
      "/usr/lib/python3.6/site-packages/sklearn/svm/base.py:196: FutureWarning: The default value of gamma will change from 'auto' to 'scale' in version 0.22 to account better for unscaled features. Set gamma explicitly to 'auto' or 'scale' to avoid this warning.\n",
      "  \"avoid this warning.\", FutureWarning)\n"
     ]
    },
    {
     "name": "stdout",
     "output_type": "stream",
     "text": [
      "0.5026164963867431  at C =  1000  time =  10.667268991470337\n",
      "Precision Score : 0.5053166861653638\n",
      "Recall Score : 0.5473496411917214\n",
      "F Score : 0.36295143256530704\n",
      "Confusion matrix : [[1948 1949]\n",
      " [  47   69]]\n"
     ]
    }
   ],
   "source": [
    "from sklearn import svm\n",
    "C = [1, 5, 10, 100, 1000]\n",
    "\n",
    "for c in C:\n",
    "    start_time = time()\n",
    "    model = svm.SVC(C=c)\n",
    "    model.fit(X_train, y_train)\n",
    "    y_pred = model.predict(X_test)\n",
    "    print(accuracy_score(y_pred, y_test), \" at C = \", c, \" time = \", time() - start_time)\n",
    "    model_scores(y_test, y_pred)"
   ]
  },
  {
   "cell_type": "code",
   "execution_count": null,
   "metadata": {},
   "outputs": [
    {
     "name": "stderr",
     "output_type": "stream",
     "text": [
      "/usr/lib/python3.6/site-packages/sklearn/svm/base.py:196: FutureWarning: The default value of gamma will change from 'auto' to 'scale' in version 0.22 to account better for unscaled features. Set gamma explicitly to 'auto' or 'scale' to avoid this warning.\n",
      "  \"avoid this warning.\", FutureWarning)\n"
     ]
    },
    {
     "name": "stdout",
     "output_type": "stream",
     "text": [
      "0.7136805382506852  at C =  1  time =  4.080479860305786\n",
      "Precision Score : 0.7136897727346113\n",
      "Recall Score : 0.71486667049618\n",
      "F Score : 0.7132905719436908\n",
      "Confusion matrix : [[1506  649]\n",
      " [ 500 1358]]\n"
     ]
    },
    {
     "name": "stderr",
     "output_type": "stream",
     "text": [
      "/usr/lib/python3.6/site-packages/sklearn/svm/base.py:196: FutureWarning: The default value of gamma will change from 'auto' to 'scale' in version 0.22 to account better for unscaled features. Set gamma explicitly to 'auto' or 'scale' to avoid this warning.\n",
      "  \"avoid this warning.\", FutureWarning)\n"
     ]
    },
    {
     "name": "stdout",
     "output_type": "stream",
     "text": [
      "0.7224021928731622  at C =  5  time =  3.9426538944244385\n",
      "Precision Score : 0.7224031691671373\n",
      "Recall Score : 0.722416427832268\n",
      "F Score : 0.7223983143508199\n",
      "Confusion matrix : [[1457  565]\n",
      " [ 549 1442]]\n"
     ]
    },
    {
     "name": "stderr",
     "output_type": "stream",
     "text": [
      "/usr/lib/python3.6/site-packages/sklearn/svm/base.py:196: FutureWarning: The default value of gamma will change from 'auto' to 'scale' in version 0.22 to account better for unscaled features. Set gamma explicitly to 'auto' or 'scale' to avoid this warning.\n",
      "  \"avoid this warning.\", FutureWarning)\n"
     ]
    },
    {
     "name": "stdout",
     "output_type": "stream",
     "text": [
      "0.7221530027410914  at C =  10  time =  5.313428163528442\n",
      "Precision Score : 0.7221515572862875\n",
      "Recall Score : 0.722182020077059\n",
      "F Score : 0.7221430645943424\n",
      "Confusion matrix : [[1437  546]\n",
      " [ 569 1461]]\n"
     ]
    },
    {
     "name": "stderr",
     "output_type": "stream",
     "text": [
      "/usr/lib/python3.6/site-packages/sklearn/svm/base.py:196: FutureWarning: The default value of gamma will change from 'auto' to 'scale' in version 0.22 to account better for unscaled features. Set gamma explicitly to 'auto' or 'scale' to avoid this warning.\n",
      "  \"avoid this warning.\", FutureWarning)\n"
     ]
    },
    {
     "name": "stdout",
     "output_type": "stream",
     "text": [
      "0.7253924744580115  at C =  100  time =  10.932708740234375\n",
      "Precision Score : 0.7253868687907379\n",
      "Recall Score : 0.7258462979721503\n",
      "F Score : 0.7252511945908173\n",
      "Confusion matrix : [[1410  506]\n",
      " [ 596 1501]]\n"
     ]
    },
    {
     "name": "stderr",
     "output_type": "stream",
     "text": [
      "/usr/lib/python3.6/site-packages/sklearn/svm/base.py:196: FutureWarning: The default value of gamma will change from 'auto' to 'scale' in version 0.22 to account better for unscaled features. Set gamma explicitly to 'auto' or 'scale' to avoid this warning.\n",
      "  \"avoid this warning.\", FutureWarning)\n"
     ]
    }
   ],
   "source": [
    "from sklearn import svm\n",
    "C = [1, 5, 10, 100, 1000]\n",
    "\n",
    "for c in C:\n",
    "    start_time = time()\n",
    "    model = svm.SVC(C=c)\n",
    "    model.fit(X_proc_train, y_proc_train)\n",
    "    y_pred = model.predict(X_proc_test)\n",
    "    print(accuracy_score(y_pred, y_proc_test), \" at C = \", c, \" time = \", time() - start_time)\n",
    "    model_scores(y_proc_test, y_pred)"
   ]
  },
  {
   "cell_type": "markdown",
   "metadata": {},
   "source": [
    "#### 5. Naive Bayes Classifier\n",
    "Bayes Classifier behaved relatively better than SVMs but not as good as AdaBoost. The accuracy was **65%** which indicates that the features are dependent on each other which violates the assumption made by the classifier."
   ]
  },
  {
   "cell_type": "code",
   "execution_count": null,
   "metadata": {},
   "outputs": [],
   "source": [
    "from sklearn.naive_bayes import GaussianNB\n",
    "start_time = time()\n",
    "model = GaussianNB()\n",
    "model.fit(X_train, y_train)\n",
    "y_pred = model.predict(X_test)\n",
    "print(accuracy_score(y_pred, y_test), \" using Naive Bayes Classifier \", \" time = \", time() - start_time)\n",
    "model_scores(y_test, y_pred)"
   ]
  },
  {
   "cell_type": "code",
   "execution_count": null,
   "metadata": {},
   "outputs": [],
   "source": [
    "from sklearn.naive_bayes import GaussianNB\n",
    "start_time = time()\n",
    "model = GaussianNB()\n",
    "model.fit(X_proc_train, y_proc_train)\n",
    "y_pred = model.predict(X_proc_test)\n",
    "print(accuracy_score(y_pred, y_proc_test), \" using Naive Bayes Classifier \", \" time = \", time() - start_time)\n",
    "model_scores(y_proc_test, y_pred)"
   ]
  },
  {
   "cell_type": "markdown",
   "metadata": {},
   "source": [
    "#### 6. Decision Tree Classifier\n",
    "The Decision tree performed much better than previous classifiers. The inaccuracy could be justified by claiming that the decision tree only involves one feature during partitioning at each node. Accuracy was **79%**"
   ]
  },
  {
   "cell_type": "code",
   "execution_count": null,
   "metadata": {},
   "outputs": [],
   "source": [
    "from sklearn import tree\n",
    "start_time = time()\n",
    "model = tree.DecisionTreeClassifier()\n",
    "model.fit(X_train, y_train)\n",
    "y_pred = model.predict(X_test)\n",
    "print(accuracy_score(y_pred, y_test), \" using Decision Tree Classifier \", \" time = \", time() - start_time)\n",
    "model_scores(y_test, y_pred)"
   ]
  }
 ],
 "metadata": {
  "kernelspec": {
   "display_name": "Python 3",
   "language": "python",
   "name": "python3"
  },
  "language_info": {
   "codemirror_mode": {
    "name": "ipython",
    "version": 3
   },
   "file_extension": ".py",
   "mimetype": "text/x-python",
   "name": "python",
   "nbconvert_exporter": "python",
   "pygments_lexer": "ipython3",
   "version": "3.6.5"
  }
 },
 "nbformat": 4,
 "nbformat_minor": 2
}
