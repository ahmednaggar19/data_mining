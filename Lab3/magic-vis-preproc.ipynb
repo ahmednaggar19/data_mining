{
 "cells": [
  {
   "cell_type": "markdown",
   "metadata": {},
   "source": [
    "# Data Classification\n",
    "\n",
    "This dataset is generated to simulate registration of high energy gamma particles in a ground-based atmospheric Cherenkov gamma telescope using the imaging technique. The dataset consists of two classes; gammas (signal) and hadrons (background). There\n",
    "are 12332 gamma events and 6688 hadron events. You are required to apply preprocessing techniques on this\n",
    "dataset and use the preprocessed dataset to construct different classification models such as Decision Trees,\n",
    "Naïve Bayes Classifier, Random Forests, AdaBoost, K-Nearest Neighbor (K-NN) and Support Vector\n",
    "Machines (SVM). You are also required to tune the parameters of these models, compare the performance of\n",
    "the learned models before and after preprocessing and compare the performance of models with each other."
   ]
  },
  {
   "cell_type": "markdown",
   "metadata": {},
   "source": [
    "## Importing dataset"
   ]
  },
  {
   "cell_type": "code",
   "execution_count": 1,
   "metadata": {},
   "outputs": [],
   "source": [
    "import pandas as pd\n",
    "\n",
    "data = pd.read_csv(\"dataset/magic04.data\",\n",
    "                  names = [\"fLength\", \"fWidth\", \"fSize\", \"fConc\", \"fConc1\", \"fAsym\",\n",
    "                           \"fM3Long\", \"fM3Trans\", \"fAlpha\", \"fDist\", \"class\"])"
   ]
  },
  {
   "cell_type": "code",
   "execution_count": 2,
   "metadata": {},
   "outputs": [
    {
     "data": {
      "text/html": [
       "<div>\n",
       "<style scoped>\n",
       "    .dataframe tbody tr th:only-of-type {\n",
       "        vertical-align: middle;\n",
       "    }\n",
       "\n",
       "    .dataframe tbody tr th {\n",
       "        vertical-align: top;\n",
       "    }\n",
       "\n",
       "    .dataframe thead th {\n",
       "        text-align: right;\n",
       "    }\n",
       "</style>\n",
       "<table border=\"1\" class=\"dataframe\">\n",
       "  <thead>\n",
       "    <tr style=\"text-align: right;\">\n",
       "      <th></th>\n",
       "      <th>fLength</th>\n",
       "      <th>fWidth</th>\n",
       "      <th>fSize</th>\n",
       "      <th>fConc</th>\n",
       "      <th>fConc1</th>\n",
       "      <th>fAsym</th>\n",
       "      <th>fM3Long</th>\n",
       "      <th>fM3Trans</th>\n",
       "      <th>fAlpha</th>\n",
       "      <th>fDist</th>\n",
       "      <th>class</th>\n",
       "    </tr>\n",
       "  </thead>\n",
       "  <tbody>\n",
       "    <tr>\n",
       "      <th>0</th>\n",
       "      <td>28.7967</td>\n",
       "      <td>16.0021</td>\n",
       "      <td>2.6449</td>\n",
       "      <td>0.3918</td>\n",
       "      <td>0.1982</td>\n",
       "      <td>27.7004</td>\n",
       "      <td>22.0110</td>\n",
       "      <td>-8.2027</td>\n",
       "      <td>40.0920</td>\n",
       "      <td>81.8828</td>\n",
       "      <td>g</td>\n",
       "    </tr>\n",
       "    <tr>\n",
       "      <th>1</th>\n",
       "      <td>31.6036</td>\n",
       "      <td>11.7235</td>\n",
       "      <td>2.5185</td>\n",
       "      <td>0.5303</td>\n",
       "      <td>0.3773</td>\n",
       "      <td>26.2722</td>\n",
       "      <td>23.8238</td>\n",
       "      <td>-9.9574</td>\n",
       "      <td>6.3609</td>\n",
       "      <td>205.2610</td>\n",
       "      <td>g</td>\n",
       "    </tr>\n",
       "    <tr>\n",
       "      <th>2</th>\n",
       "      <td>162.0520</td>\n",
       "      <td>136.0310</td>\n",
       "      <td>4.0612</td>\n",
       "      <td>0.0374</td>\n",
       "      <td>0.0187</td>\n",
       "      <td>116.7410</td>\n",
       "      <td>-64.8580</td>\n",
       "      <td>-45.2160</td>\n",
       "      <td>76.9600</td>\n",
       "      <td>256.7880</td>\n",
       "      <td>g</td>\n",
       "    </tr>\n",
       "    <tr>\n",
       "      <th>3</th>\n",
       "      <td>23.8172</td>\n",
       "      <td>9.5728</td>\n",
       "      <td>2.3385</td>\n",
       "      <td>0.6147</td>\n",
       "      <td>0.3922</td>\n",
       "      <td>27.2107</td>\n",
       "      <td>-6.4633</td>\n",
       "      <td>-7.1513</td>\n",
       "      <td>10.4490</td>\n",
       "      <td>116.7370</td>\n",
       "      <td>g</td>\n",
       "    </tr>\n",
       "    <tr>\n",
       "      <th>4</th>\n",
       "      <td>75.1362</td>\n",
       "      <td>30.9205</td>\n",
       "      <td>3.1611</td>\n",
       "      <td>0.3168</td>\n",
       "      <td>0.1832</td>\n",
       "      <td>-5.5277</td>\n",
       "      <td>28.5525</td>\n",
       "      <td>21.8393</td>\n",
       "      <td>4.6480</td>\n",
       "      <td>356.4620</td>\n",
       "      <td>g</td>\n",
       "    </tr>\n",
       "    <tr>\n",
       "      <th>5</th>\n",
       "      <td>51.6240</td>\n",
       "      <td>21.1502</td>\n",
       "      <td>2.9085</td>\n",
       "      <td>0.2420</td>\n",
       "      <td>0.1340</td>\n",
       "      <td>50.8761</td>\n",
       "      <td>43.1887</td>\n",
       "      <td>9.8145</td>\n",
       "      <td>3.6130</td>\n",
       "      <td>238.0980</td>\n",
       "      <td>g</td>\n",
       "    </tr>\n",
       "    <tr>\n",
       "      <th>6</th>\n",
       "      <td>48.2468</td>\n",
       "      <td>17.3565</td>\n",
       "      <td>3.0332</td>\n",
       "      <td>0.2529</td>\n",
       "      <td>0.1515</td>\n",
       "      <td>8.5730</td>\n",
       "      <td>38.0957</td>\n",
       "      <td>10.5868</td>\n",
       "      <td>4.7920</td>\n",
       "      <td>219.0870</td>\n",
       "      <td>g</td>\n",
       "    </tr>\n",
       "    <tr>\n",
       "      <th>7</th>\n",
       "      <td>26.7897</td>\n",
       "      <td>13.7595</td>\n",
       "      <td>2.5521</td>\n",
       "      <td>0.4236</td>\n",
       "      <td>0.2174</td>\n",
       "      <td>29.6339</td>\n",
       "      <td>20.4560</td>\n",
       "      <td>-2.9292</td>\n",
       "      <td>0.8120</td>\n",
       "      <td>237.1340</td>\n",
       "      <td>g</td>\n",
       "    </tr>\n",
       "    <tr>\n",
       "      <th>8</th>\n",
       "      <td>96.2327</td>\n",
       "      <td>46.5165</td>\n",
       "      <td>4.1540</td>\n",
       "      <td>0.0779</td>\n",
       "      <td>0.0390</td>\n",
       "      <td>110.3550</td>\n",
       "      <td>85.0486</td>\n",
       "      <td>43.1844</td>\n",
       "      <td>4.8540</td>\n",
       "      <td>248.2260</td>\n",
       "      <td>g</td>\n",
       "    </tr>\n",
       "    <tr>\n",
       "      <th>9</th>\n",
       "      <td>46.7619</td>\n",
       "      <td>15.1993</td>\n",
       "      <td>2.5786</td>\n",
       "      <td>0.3377</td>\n",
       "      <td>0.1913</td>\n",
       "      <td>24.7548</td>\n",
       "      <td>43.8771</td>\n",
       "      <td>-6.6812</td>\n",
       "      <td>7.8750</td>\n",
       "      <td>102.2510</td>\n",
       "      <td>g</td>\n",
       "    </tr>\n",
       "  </tbody>\n",
       "</table>\n",
       "</div>"
      ],
      "text/plain": [
       "    fLength    fWidth   fSize   fConc  fConc1     fAsym  fM3Long  fM3Trans  \\\n",
       "0   28.7967   16.0021  2.6449  0.3918  0.1982   27.7004  22.0110   -8.2027   \n",
       "1   31.6036   11.7235  2.5185  0.5303  0.3773   26.2722  23.8238   -9.9574   \n",
       "2  162.0520  136.0310  4.0612  0.0374  0.0187  116.7410 -64.8580  -45.2160   \n",
       "3   23.8172    9.5728  2.3385  0.6147  0.3922   27.2107  -6.4633   -7.1513   \n",
       "4   75.1362   30.9205  3.1611  0.3168  0.1832   -5.5277  28.5525   21.8393   \n",
       "5   51.6240   21.1502  2.9085  0.2420  0.1340   50.8761  43.1887    9.8145   \n",
       "6   48.2468   17.3565  3.0332  0.2529  0.1515    8.5730  38.0957   10.5868   \n",
       "7   26.7897   13.7595  2.5521  0.4236  0.2174   29.6339  20.4560   -2.9292   \n",
       "8   96.2327   46.5165  4.1540  0.0779  0.0390  110.3550  85.0486   43.1844   \n",
       "9   46.7619   15.1993  2.5786  0.3377  0.1913   24.7548  43.8771   -6.6812   \n",
       "\n",
       "    fAlpha     fDist class  \n",
       "0  40.0920   81.8828     g  \n",
       "1   6.3609  205.2610     g  \n",
       "2  76.9600  256.7880     g  \n",
       "3  10.4490  116.7370     g  \n",
       "4   4.6480  356.4620     g  \n",
       "5   3.6130  238.0980     g  \n",
       "6   4.7920  219.0870     g  \n",
       "7   0.8120  237.1340     g  \n",
       "8   4.8540  248.2260     g  \n",
       "9   7.8750  102.2510     g  "
      ]
     },
     "metadata": {},
     "output_type": "display_data"
    },
    {
     "name": "stdout",
     "output_type": "stream",
     "text": [
      "19020\n"
     ]
    }
   ],
   "source": [
    "display(data.head(10))\n",
    "print(len(data))"
   ]
  },
  {
   "cell_type": "markdown",
   "metadata": {},
   "source": [
    "## Data balancing\n",
    "We can notice that there is an imbalance between the number of rows existent in 'g' and the number of rows existent in 'h'.\n",
    "This problem must be solved by removing random samples from data where class is 'g' until both number of rows are equal."
   ]
  },
  {
   "cell_type": "code",
   "execution_count": 3,
   "metadata": {},
   "outputs": [
    {
     "name": "stdout",
     "output_type": "stream",
     "text": [
      "12332\n",
      "6688\n"
     ]
    }
   ],
   "source": [
    "data_g = data[data['class'] == 'g']\n",
    "data_h = data[data['class'] == 'h']\n",
    "\n",
    "print (len(data_g))\n",
    "print (len(data_h))"
   ]
  },
  {
   "cell_type": "code",
   "execution_count": 4,
   "metadata": {},
   "outputs": [],
   "source": [
    "data_g = data_g.sample(n=len(data_h))\n",
    "\n",
    "data = pd.concat([data_g, data_h], ignore_index=True)"
   ]
  },
  {
   "cell_type": "code",
   "execution_count": 5,
   "metadata": {},
   "outputs": [
    {
     "name": "stdout",
     "output_type": "stream",
     "text": [
      "6688\n"
     ]
    }
   ],
   "source": [
    "print(len(data[data['class'] == 'g']))"
   ]
  },
  {
   "cell_type": "markdown",
   "metadata": {},
   "source": [
    "## Visualization\n",
    "Using describe method to check each attribute statistics, we can observe different ranges of values for each attribue. Therefore, normalization should be used to prevent features with large domain of values to dominate other features."
   ]
  },
  {
   "cell_type": "code",
   "execution_count": 6,
   "metadata": {},
   "outputs": [
    {
     "data": {
      "text/html": [
       "<div>\n",
       "<style scoped>\n",
       "    .dataframe tbody tr th:only-of-type {\n",
       "        vertical-align: middle;\n",
       "    }\n",
       "\n",
       "    .dataframe tbody tr th {\n",
       "        vertical-align: top;\n",
       "    }\n",
       "\n",
       "    .dataframe thead th {\n",
       "        text-align: right;\n",
       "    }\n",
       "</style>\n",
       "<table border=\"1\" class=\"dataframe\">\n",
       "  <thead>\n",
       "    <tr style=\"text-align: right;\">\n",
       "      <th></th>\n",
       "      <th>fLength</th>\n",
       "      <th>fWidth</th>\n",
       "      <th>fSize</th>\n",
       "      <th>fConc</th>\n",
       "      <th>fConc1</th>\n",
       "      <th>fAsym</th>\n",
       "      <th>fM3Long</th>\n",
       "      <th>fM3Trans</th>\n",
       "      <th>fAlpha</th>\n",
       "      <th>fDist</th>\n",
       "    </tr>\n",
       "  </thead>\n",
       "  <tbody>\n",
       "    <tr>\n",
       "      <th>count</th>\n",
       "      <td>13376.000000</td>\n",
       "      <td>13376.000000</td>\n",
       "      <td>13376.000000</td>\n",
       "      <td>13376.000000</td>\n",
       "      <td>13376.000000</td>\n",
       "      <td>13376.000000</td>\n",
       "      <td>13376.000000</td>\n",
       "      <td>13376.000000</td>\n",
       "      <td>13376.000000</td>\n",
       "      <td>13376.000000</td>\n",
       "    </tr>\n",
       "    <tr>\n",
       "      <th>mean</th>\n",
       "      <td>57.304915</td>\n",
       "      <td>23.664658</td>\n",
       "      <td>2.841802</td>\n",
       "      <td>0.378673</td>\n",
       "      <td>0.214346</td>\n",
       "      <td>-7.723170</td>\n",
       "      <td>7.456622</td>\n",
       "      <td>0.301284</td>\n",
       "      <td>31.320239</td>\n",
       "      <td>195.472145</td>\n",
       "    </tr>\n",
       "    <tr>\n",
       "      <th>std</th>\n",
       "      <td>46.998343</td>\n",
       "      <td>20.830662</td>\n",
       "      <td>0.474666</td>\n",
       "      <td>0.184616</td>\n",
       "      <td>0.112230</td>\n",
       "      <td>65.477279</td>\n",
       "      <td>56.337306</td>\n",
       "      <td>23.193880</td>\n",
       "      <td>26.918325</td>\n",
       "      <td>76.458686</td>\n",
       "    </tr>\n",
       "    <tr>\n",
       "      <th>min</th>\n",
       "      <td>4.283500</td>\n",
       "      <td>0.000000</td>\n",
       "      <td>1.941300</td>\n",
       "      <td>0.013100</td>\n",
       "      <td>0.000300</td>\n",
       "      <td>-457.916100</td>\n",
       "      <td>-331.780000</td>\n",
       "      <td>-205.894700</td>\n",
       "      <td>0.000000</td>\n",
       "      <td>1.282600</td>\n",
       "    </tr>\n",
       "    <tr>\n",
       "      <th>25%</th>\n",
       "      <td>24.680275</td>\n",
       "      <td>11.696450</td>\n",
       "      <td>2.493875</td>\n",
       "      <td>0.232100</td>\n",
       "      <td>0.126500</td>\n",
       "      <td>-24.543050</td>\n",
       "      <td>-14.881350</td>\n",
       "      <td>-10.980000</td>\n",
       "      <td>7.341750</td>\n",
       "      <td>142.655175</td>\n",
       "    </tr>\n",
       "    <tr>\n",
       "      <th>50%</th>\n",
       "      <td>38.842750</td>\n",
       "      <td>17.198750</td>\n",
       "      <td>2.754600</td>\n",
       "      <td>0.353950</td>\n",
       "      <td>0.197100</td>\n",
       "      <td>2.753250</td>\n",
       "      <td>14.624200</td>\n",
       "      <td>1.264500</td>\n",
       "      <td>23.214800</td>\n",
       "      <td>193.510200</td>\n",
       "    </tr>\n",
       "    <tr>\n",
       "      <th>75%</th>\n",
       "      <td>76.169625</td>\n",
       "      <td>26.147700</td>\n",
       "      <td>3.120325</td>\n",
       "      <td>0.505925</td>\n",
       "      <td>0.287025</td>\n",
       "      <td>23.603525</td>\n",
       "      <td>34.982100</td>\n",
       "      <td>11.051100</td>\n",
       "      <td>52.235550</td>\n",
       "      <td>243.040525</td>\n",
       "    </tr>\n",
       "    <tr>\n",
       "      <th>max</th>\n",
       "      <td>334.177000</td>\n",
       "      <td>256.382000</td>\n",
       "      <td>5.323300</td>\n",
       "      <td>0.893000</td>\n",
       "      <td>0.675200</td>\n",
       "      <td>575.240700</td>\n",
       "      <td>238.321000</td>\n",
       "      <td>179.851000</td>\n",
       "      <td>90.000000</td>\n",
       "      <td>495.561000</td>\n",
       "    </tr>\n",
       "  </tbody>\n",
       "</table>\n",
       "</div>"
      ],
      "text/plain": [
       "            fLength        fWidth         fSize         fConc        fConc1  \\\n",
       "count  13376.000000  13376.000000  13376.000000  13376.000000  13376.000000   \n",
       "mean      57.304915     23.664658      2.841802      0.378673      0.214346   \n",
       "std       46.998343     20.830662      0.474666      0.184616      0.112230   \n",
       "min        4.283500      0.000000      1.941300      0.013100      0.000300   \n",
       "25%       24.680275     11.696450      2.493875      0.232100      0.126500   \n",
       "50%       38.842750     17.198750      2.754600      0.353950      0.197100   \n",
       "75%       76.169625     26.147700      3.120325      0.505925      0.287025   \n",
       "max      334.177000    256.382000      5.323300      0.893000      0.675200   \n",
       "\n",
       "              fAsym       fM3Long      fM3Trans        fAlpha         fDist  \n",
       "count  13376.000000  13376.000000  13376.000000  13376.000000  13376.000000  \n",
       "mean      -7.723170      7.456622      0.301284     31.320239    195.472145  \n",
       "std       65.477279     56.337306     23.193880     26.918325     76.458686  \n",
       "min     -457.916100   -331.780000   -205.894700      0.000000      1.282600  \n",
       "25%      -24.543050    -14.881350    -10.980000      7.341750    142.655175  \n",
       "50%        2.753250     14.624200      1.264500     23.214800    193.510200  \n",
       "75%       23.603525     34.982100     11.051100     52.235550    243.040525  \n",
       "max      575.240700    238.321000    179.851000     90.000000    495.561000  "
      ]
     },
     "metadata": {},
     "output_type": "display_data"
    }
   ],
   "source": [
    "# TODO\n",
    "import matplotlib.pyplot as plt\n",
    "display(data.describe())"
   ]
  },
  {
   "cell_type": "markdown",
   "metadata": {},
   "source": [
    "By using the correlation matrix, that there is high correlation among fLength, fWidth, and fSize features. Another slight correlation between fDist feature and the first 3 features. "
   ]
  },
  {
   "cell_type": "code",
   "execution_count": 7,
   "metadata": {},
   "outputs": [
    {
     "data": {
      "text/plain": [
       "<matplotlib.colorbar.Colorbar at 0x7f2b3e220550>"
      ]
     },
     "execution_count": 7,
     "metadata": {},
     "output_type": "execute_result"
    },
    {
     "data": {
      "image/png": "[encoded data removed]",
      "text/plain": [
       "<Figure size 432x288 with 2 Axes>"
      ]
     },
     "metadata": {
      "needs_background": "light"
     },
     "output_type": "display_data"
    }
   ],
   "source": [
    "plt.imshow(data.corr())\n",
    "plt.colorbar()"
   ]
  },
  {
   "cell_type": "markdown",
   "metadata": {},
   "source": [
    "Box plots can assert our previous claim of features have different ranges of values which may affect the learning process. "
   ]
  },
  {
   "cell_type": "code",
   "execution_count": 8,
   "metadata": {},
   "outputs": [
    {
     "data": {
      "image/png": "[encoded data removed]",
      "text/plain": [
       "<Figure size 432x288 with 1 Axes>"
      ]
     },
     "metadata": {
      "needs_background": "light"
     },
     "output_type": "display_data"
    },
    {
     "data": {
      "image/png": "[encoded data removed]",
      "text/plain": [
       "<Figure size 432x288 with 1 Axes>"
      ]
     },
     "metadata": {
      "needs_background": "light"
     },
     "output_type": "display_data"
    }
   ],
   "source": [
    "columns = data.columns\n",
    "box_plots_1 = data.boxplot(column = ['fLength', 'fWidth','fSize','fConc', 'fConc1'], patch_artist = True, showfliers=False)\n",
    "plt.figure()\n",
    "box_plots_2 = data.boxplot(column = ['fAsym','fM3Long','fM3Trans', 'fAlpha', 'fDist'], patch_artist = True, showfliers=False)"
   ]
  },
  {
   "cell_type": "markdown",
   "metadata": {},
   "source": [
    "## Preprocessing\n",
    "As a result of our conclusions above, it is obvious now that we need to perform 2 important preprocessing steps, features normalization and features selection.\n",
    "We are going to use z-normalization to normalize the data. We are not going use min-max since there are some alot of outliers in each feature. \n",
    "We will also apply PCA to reduce the correlated, unnecessary features in our dataset. "
   ]
  },
  {
   "cell_type": "code",
   "execution_count": 9,
   "metadata": {},
   "outputs": [
    {
     "data": {
      "text/html": [
       "<div>\n",
       "<style scoped>\n",
       "    .dataframe tbody tr th:only-of-type {\n",
       "        vertical-align: middle;\n",
       "    }\n",
       "\n",
       "    .dataframe tbody tr th {\n",
       "        vertical-align: top;\n",
       "    }\n",
       "\n",
       "    .dataframe thead th {\n",
       "        text-align: right;\n",
       "    }\n",
       "</style>\n",
       "<table border=\"1\" class=\"dataframe\">\n",
       "  <thead>\n",
       "    <tr style=\"text-align: right;\">\n",
       "      <th></th>\n",
       "      <th>pca_0</th>\n",
       "      <th>pca_1</th>\n",
       "      <th>pca_2</th>\n",
       "      <th>pca_3</th>\n",
       "      <th>pca_4</th>\n",
       "    </tr>\n",
       "  </thead>\n",
       "  <tbody>\n",
       "    <tr>\n",
       "      <th>count</th>\n",
       "      <td>1.337600e+04</td>\n",
       "      <td>1.337600e+04</td>\n",
       "      <td>1.337600e+04</td>\n",
       "      <td>1.337600e+04</td>\n",
       "      <td>1.337600e+04</td>\n",
       "    </tr>\n",
       "    <tr>\n",
       "      <th>mean</th>\n",
       "      <td>8.703299e-15</td>\n",
       "      <td>-7.071430e-15</td>\n",
       "      <td>1.631868e-15</td>\n",
       "      <td>3.263737e-15</td>\n",
       "      <td>5.439562e-16</td>\n",
       "    </tr>\n",
       "    <tr>\n",
       "      <th>std</th>\n",
       "      <td>8.578306e+01</td>\n",
       "      <td>6.652539e+01</td>\n",
       "      <td>4.974349e+01</td>\n",
       "      <td>3.997394e+01</td>\n",
       "      <td>2.589696e+01</td>\n",
       "    </tr>\n",
       "    <tr>\n",
       "      <th>min</th>\n",
       "      <td>-1.967063e+02</td>\n",
       "      <td>-2.870922e+02</td>\n",
       "      <td>-4.249804e+02</td>\n",
       "      <td>-7.476984e+01</td>\n",
       "      <td>-7.710400e+01</td>\n",
       "    </tr>\n",
       "    <tr>\n",
       "      <th>25%</th>\n",
       "      <td>-5.698738e+01</td>\n",
       "      <td>-3.760819e+01</td>\n",
       "      <td>-1.527907e+01</td>\n",
       "      <td>-2.490111e+01</td>\n",
       "      <td>-2.040306e+01</td>\n",
       "    </tr>\n",
       "    <tr>\n",
       "      <th>50%</th>\n",
       "      <td>-1.729953e+01</td>\n",
       "      <td>-3.181837e+00</td>\n",
       "      <td>1.468275e+00</td>\n",
       "      <td>-8.914135e+00</td>\n",
       "      <td>-8.286184e+00</td>\n",
       "    </tr>\n",
       "    <tr>\n",
       "      <th>75%</th>\n",
       "      <td>3.133116e+01</td>\n",
       "      <td>3.462487e+01</td>\n",
       "      <td>1.725135e+01</td>\n",
       "      <td>1.263520e+01</td>\n",
       "      <td>1.895588e+01</td>\n",
       "    </tr>\n",
       "    <tr>\n",
       "      <th>max</th>\n",
       "      <td>3.648615e+02</td>\n",
       "      <td>4.350110e+02</td>\n",
       "      <td>5.473691e+02</td>\n",
       "      <td>3.782528e+02</td>\n",
       "      <td>8.155287e+01</td>\n",
       "    </tr>\n",
       "  </tbody>\n",
       "</table>\n",
       "</div>"
      ],
      "text/plain": [
       "              pca_0         pca_1         pca_2         pca_3         pca_4\n",
       "count  1.337600e+04  1.337600e+04  1.337600e+04  1.337600e+04  1.337600e+04\n",
       "mean   8.703299e-15 -7.071430e-15  1.631868e-15  3.263737e-15  5.439562e-16\n",
       "std    8.578306e+01  6.652539e+01  4.974349e+01  3.997394e+01  2.589696e+01\n",
       "min   -1.967063e+02 -2.870922e+02 -4.249804e+02 -7.476984e+01 -7.710400e+01\n",
       "25%   -5.698738e+01 -3.760819e+01 -1.527907e+01 -2.490111e+01 -2.040306e+01\n",
       "50%   -1.729953e+01 -3.181837e+00  1.468275e+00 -8.914135e+00 -8.286184e+00\n",
       "75%    3.133116e+01  3.462487e+01  1.725135e+01  1.263520e+01  1.895588e+01\n",
       "max    3.648615e+02  4.350110e+02  5.473691e+02  3.782528e+02  8.155287e+01"
      ]
     },
     "metadata": {},
     "output_type": "display_data"
    }
   ],
   "source": [
    "# TODO \n",
    "from sklearn.decomposition import PCA\n",
    "\n",
    "pca = PCA(n_components=5)\n",
    "pca.fit(data.loc[:, data.columns != 'class'])\n",
    "columns = ['pca_%i' % i for i in range(5)]\n",
    "df_pca = pd.DataFrame(pca.transform(data.loc[:, data.columns != 'class']), columns=columns, index=data.index)\n",
    "display(df_pca.describe())"
   ]
  },
  {
   "cell_type": "markdown",
   "metadata": {},
   "source": [
    "## Data Split\n",
    "We need to randomly split the data to 70% training set and 30% testing set. We do this by first separating between class column (y) from features (x), and finally use sklearn."
   ]
  },
  {
   "cell_type": "code",
   "execution_count": 10,
   "metadata": {},
   "outputs": [],
   "source": [
    "from sklearn.model_selection import train_test_split\n",
    "\n",
    "train_df, test_df = train_test_split(data, test_size=0.3)"
   ]
  },
  {
   "cell_type": "code",
   "execution_count": 11,
   "metadata": {},
   "outputs": [
    {
     "name": "stdout",
     "output_type": "stream",
     "text": [
      "9363\n",
      "4013\n"
     ]
    }
   ],
   "source": [
    "print(len(train_df))\n",
    "print(len(test_df))"
   ]
  },
  {
   "cell_type": "markdown",
   "metadata": {},
   "source": [
    "## Classification"
   ]
  },
  {
   "cell_type": "code",
   "execution_count": 28,
   "metadata": {},
   "outputs": [],
   "source": [
    "from sklearn.metrics import accuracy_score, confusion_matrix, precision_score, recall_score, f1_score\n",
    "from time import time\n",
    "\n",
    "X_train = train_df.drop('class', axis=1)\n",
    "y_train = train_df['class']\n",
    "\n",
    "X_test = test_df.drop('class', axis=1)\n",
    "y_test = test_df['class']"
   ]
  },
  {
   "cell_type": "code",
   "execution_count": 29,
   "metadata": {},
   "outputs": [],
   "source": [
    "def model_scores(y_pred, y_test):\n",
    "    print(\"Precision Score : \" + str(precision_score(y_test, y_pred, average='macro')))\n",
    "    print(\"Recall Score : \" + str(recall_score(y_test, y_pred, average='macro')))\n",
    "    print(\"F Score : \" + str(f1_score(y_test, y_pred, average=\"macro\")))\n",
    "    print(\"Confusion matrix : \" + str(confusion_matrix(y_test, y_pred)))"
   ]
  },
  {
   "cell_type": "markdown",
   "metadata": {},
   "source": [
    "#### 1. SVM Classifier\n",
    "The Linear SVM classifier performed badly with accuracy less than **57%**. Which means that the data was not linearly separable. The wide range of C regularization values did not introduce big contribution to the accuracy, which endorses our claim.  "
   ]
  },
  {
   "cell_type": "code",
   "execution_count": 30,
   "metadata": {},
   "outputs": [
    {
     "name": "stdout",
     "output_type": "stream",
     "text": [
      "(0.5661599800647894, ' at C = ', 1, ' time = ', 5.55683708190918)\n",
      "Precision Score : 0.5676060473136271\n",
      "Recall Score : 0.6681281618887016\n",
      "F Score : 0.4907788373564793\n",
      "Confusion matrix : [[ 364   91]\n",
      " [1650 1908]]\n",
      "(0.5693994517817095, ' at C = ', 5, ' time = ', 5.472225904464722)\n",
      "Precision Score : 0.5708222780705149\n",
      "Recall Score : 0.6681346707236532\n",
      "F Score : 0.49738635197358694\n",
      "Confusion matrix : [[ 383   97]\n",
      " [1631 1902]]\n",
      "(0.5693994517817095, ' at C = ', 10, ' time = ', 6.04211688041687)\n",
      "Precision Score : 0.5708222780705149\n",
      "Recall Score : 0.6681346707236532\n",
      "F Score : 0.49738635197358694\n",
      "Confusion matrix : [[ 383   97]\n",
      " [1631 1902]]\n",
      "(0.5693994517817095, ' at C = ', 100, ' time = ', 5.3371100425720215)\n",
      "Precision Score : 0.5708222780705149\n",
      "Recall Score : 0.6681346707236532\n",
      "F Score : 0.49738635197358694\n",
      "Confusion matrix : [[ 383   97]\n",
      " [1631 1902]]\n",
      "(0.5693994517817095, ' at C = ', 1000, ' time = ', 5.754832029342651)\n",
      "Precision Score : 0.5708222780705149\n",
      "Recall Score : 0.6681346707236532\n",
      "F Score : 0.49738635197358694\n",
      "Confusion matrix : [[ 383   97]\n",
      " [1631 1902]]\n"
     ]
    }
   ],
   "source": [
    "from sklearn import svm\n",
    "C = [1, 5, 10, 100, 1000]\n",
    "\n",
    "for c in C:\n",
    "    start_time = time()\n",
    "    model = svm.SVC(C=c)\n",
    "    model.fit(X_train, y_train)\n",
    "    y_pred = model.predict(X_test)\n",
    "    print(accuracy_score(y_pred, y_test), \" at C = \", c, \" time = \", time() - start_time)\n",
    "    model_scores(y_test, y_pred)"
   ]
  },
  {
   "cell_type": "markdown",
   "metadata": {},
   "source": [
    "#### 2. Naive Bayes Classifier\n",
    "Bayes Classifier behaved relatively better than SVMs but not as good as AdaBoost. The accuracy was **65%** which indicates that the features are dependent on each other which violates the assumption made by the classifier."
   ]
  },
  {
   "cell_type": "code",
   "execution_count": 32,
   "metadata": {},
   "outputs": [
    {
     "name": "stdout",
     "output_type": "stream",
     "text": [
      "(0.6503862447047097, ' using Naive Bayes Classifier ', ' time = ', 0.02185988426208496)\n",
      "Precision Score : 0.6494340765218756\n",
      "Recall Score : 0.702127069837074\n",
      "F Score : 0.6256277201928699\n",
      "Confusion matrix : [[1821 1210]\n",
      " [ 193  789]]\n"
     ]
    }
   ],
   "source": [
    "from sklearn.naive_bayes import GaussianNB\n",
    "start_time = time()\n",
    "model = GaussianNB()Tmodel_scores(y_test, y_pred)"
   ]
  },
  {
   "cell_type": "markdown",
   "metadata": {},
   "source": [
    "#### 3.Decision Tree Classifier\n",
    "The Decision tree performed much better than previous classifiers. The inaccuracy could be justified by claiming that the decision tree only involves one feature during partitioning at each node. Accuracy was **79%**"
   ]
  },
  {
   "cell_type": "code",
   "execution_count": 33,
   "metadata": {},
   "outputs": [
    {
     "name": "stdout",
     "output_type": "stream",
     "text": [
      "(0.7939197607774732, ' using Decision Tree Classifier ', ' time = ', 0.13717412948608398)\n",
      "Precision Score : 0.7939122242352556\n",
      "Recall Score : 0.7939195247952873\n",
      "F Score : 0.7939146419698394\n",
      "Confusion matrix : [[1603  416]\n",
      " [ 411 1583]]\n"
     ]
    }
   ],
   "source": [
    "from sklearn import tree\n",
    "start_time = time()\n",
    "model = tree.DecisionTreeClassifier()\n",
    "model.fit(X_train, y_train)\n",
    "y_pred = model.predict(X_test)\n",
    "print(accuracy_score(y_pred, y_test), \" using Decision Tree Classifier \", \" time = \", time() - start_time)\n",
    "model_scores(y_test, y_pred)"
   ]
  },
  {
   "cell_type": "code",
   "execution_count": null,
   "metadata": {},
   "outputs": [],
   "source": []
  }
 ],
 "metadata": {
  "kernelspec": {
   "display_name": "Python 2",
   "language": "python",
   "name": "python2"
  },
  "language_info": {
   "codemirror_mode": {
    "name": "ipython",
    "version": 2
   },
   "file_extension": ".py",
   "mimetype": "text/x-python",
   "name": "python",
   "nbconvert_exporter": "python",
   "pygments_lexer": "ipython2",
   "version": "2.7.12"
  }
 },
 "nbformat": 4,
 "nbformat_minor": 2
}
